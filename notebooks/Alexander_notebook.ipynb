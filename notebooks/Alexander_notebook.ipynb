{
 "cells": [
  {
   "cell_type": "code",
   "execution_count": 1,
   "outputs": [
    {
     "name": "stdout",
     "output_type": "stream",
     "text": [
      "Index(['rank', 'name', 'headquarter', 'category', 'description', 'link',\n",
      "       'year'],\n",
      "      dtype='object')\n",
      "['Fintech' 'Foodtech' 'Biotech' 'Engineering' 'ICT' 'Cleantech' 'Medtech'\n",
      " 'Security' 'Robotics' 'Proptech']\n",
      "[2022 2021 2020 2019 2018 2017 2016 2015 2014 2013 2012 2011]\n"
     ]
    },
    {
     "data": {
      "text/plain": "category  year\nBiotech   2011    17\n          2012    16\n          2013    13\n          2014    17\n          2015    15\n                  ..\nSecurity  2018     5\n          2019     6\n          2020     7\n          2021     7\n          2022     5\nName: rank, Length: 109, dtype: int64"
     },
     "execution_count": 1,
     "metadata": {},
     "output_type": "execute_result"
    }
   ],
   "source": [
    "import pandas as pd\n",
    "df = pd.read_csv(\"../data/all_top_100_startups.csv\").drop(['Unnamed: 0', \"Unnamed: 0.1\"], axis=1)\n",
    "print(df.columns)\n",
    "print(df.category.unique())\n",
    "print(df.year.unique())\n",
    "df.groupby(by=[\"category\",\"year\"])[\"rank\"].agg(\"count\")"
   ],
   "metadata": {
    "collapsed": false,
    "pycharm": {
     "name": "#%%\n"
    }
   }
  }
 ],
 "metadata": {
  "kernelspec": {
   "display_name": "Python 3",
   "language": "python",
   "name": "python3"
  },
  "language_info": {
   "codemirror_mode": {
    "name": "ipython",
    "version": 2
   },
   "file_extension": ".py",
   "mimetype": "text/x-python",
   "name": "python",
   "nbconvert_exporter": "python",
   "pygments_lexer": "ipython2",
   "version": "2.7.6"
  }
 },
 "nbformat": 4,
 "nbformat_minor": 0
}