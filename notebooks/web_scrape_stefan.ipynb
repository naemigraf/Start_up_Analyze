{
 "cells": [
  {
   "cell_type": "code",
   "execution_count": 1,
   "id": "5190ca15-174a-4cc8-bce8-64aad3a8caac",
   "metadata": {},
   "outputs": [],
   "source": [
    "import requests\n",
    "from bs4 import BeautifulSoup\n",
    "import re # a library to do regular expression matching\n",
    "import pandas as pd\n",
    "import numpy as np"
   ]
  },
  {
   "cell_type": "code",
   "execution_count": 4,
   "id": "5078aaa3-0f41-4b4c-82bf-bbda2f950571",
   "metadata": {
    "collapsed": true,
    "jupyter": {
     "outputs_hidden": true
    },
    "tags": []
   },
   "outputs": [
    {
     "name": "stdout",
     "output_type": "stream",
     "text": [
      "<Response [200]>\n",
      "\n",
      "<!DOCTYPE html>\n",
      "<html lang=\"en\">\n",
      "<head>\n",
      "\t<meta charset=\"UTF-8\">\n",
      "\t\t\n",
      "\t\t<title>Ranking of the Most Famous & Innovative Swiss Startups</title>\n",
      "\t\t\n",
      "\t\t<meta name=\"Description\" content=\"Who are Switzerland's most promising startups? Check out the ranking - published by TOP 100 Swiss Startup Awards!\" />\t\t\t\t\n",
      "\t\n",
      "\t\t<meta name=\"Keywords\" content=\"TOP 100, TOP 100 Swiss Startup Award, Best Swiss Startups, Venturelab, Swiss Startups, Innovation, Startups, TOP100SSU, Startup Magazines, Swiss Startup M\n"
     ]
    }
   ],
   "source": [
    "page = requests.get(\"https://www.top100startups.swiss/index.cfm?CFID=72290205&CFTOKEN=76bddc1e275fe11a-4F4560A0-087B-A654-08119300753A277A&&page=136340&profilesEntry=1\", timeout=15)\n",
    "print(page)\n",
    "print(page.text[:500])"
   ]
  },
  {
   "cell_type": "code",
   "execution_count": 5,
   "id": "3dc26252-99ad-4833-9560-f97f5055cb6a",
   "metadata": {},
   "outputs": [],
   "source": [
    "soup= BeautifulSoup(page.content, \"html.parser\")"
   ]
  },
  {
   "cell_type": "code",
   "execution_count": 23,
   "id": "4effe0c7-5260-4f3a-85dd-dcdc3e034881",
   "metadata": {},
   "outputs": [],
   "source": [
    "soup2=soup.findAll(\"ul\", {\"class\":\"table-top100\"})[0]"
   ]
  },
  {
   "cell_type": "code",
   "execution_count": 27,
   "id": "e6517774-32b2-4ec2-8fe8-74b33075c6c6",
   "metadata": {
    "collapsed": true,
    "jupyter": {
     "outputs_hidden": true
    },
    "tags": []
   },
   "outputs": [
    {
     "data": {
      "text/plain": [
       "<li><a href=\"/Planted\">\n",
       "<span class=\"col-rank\"><span class=\"label\">Rank</span>2</span>\n",
       "<span class=\"col-star\"><span class=\"label\">Startup</span><span class=\"image\"><img src=\"/demandit/files/M_BB941CC4DCEF687AD98/dms//Image/planted-white11.png\"/></span><span class=\"text\">Planted Foods AG</span></span>\n",
       "<span class=\"col-head\"><span class=\"label\">Headquarter</span>Kemptthal</span>\n",
       "<span class=\"col-cate\"><span class=\"label\">Category</span>Foodtech</span>\n",
       "<span class=\"col-desc\"><span class=\"label\">Description</span>\n",
       "<!--\n",
       "\t\t\t\t\t\t200 0\n",
       "\t\t\t\t\t-->\n",
       "\t\t\t\t         \tPlanted meats \n",
       "\t        \t\n",
       "\t        </span>\n",
       "</a>\n",
       "</li>"
      ]
     },
     "execution_count": 27,
     "metadata": {},
     "output_type": "execute_result"
    }
   ],
   "source": [
    "soup2.findAll(\"li\")[2]"
   ]
  },
  {
   "cell_type": "code",
   "execution_count": 97,
   "id": "b1371938-59a5-40a0-b5f3-3fb0c4c43a10",
   "metadata": {},
   "outputs": [
    {
     "data": {
      "text/plain": [
       "'Rank1'"
      ]
     },
     "execution_count": 97,
     "metadata": {},
     "output_type": "execute_result"
    }
   ],
   "source": [
    "#Rank\n",
    "soup2.findAll(\"span\", {\"class\":\"col-rank\"})[1].text  #here we have \"Ranke\" + \"1\""
   ]
  },
  {
   "cell_type": "code",
   "execution_count": 114,
   "id": "f796949c-0f34-408d-8642-af4fc8bd5994",
   "metadata": {},
   "outputs": [],
   "source": [
    "soup2.select_one(\"label\")  #.find_next(\"span\")"
   ]
  },
  {
   "cell_type": "code",
   "execution_count": 120,
   "id": "7e75c341-1a33-42ab-b5df-9ffce564fa21",
   "metadata": {},
   "outputs": [
    {
     "data": {
      "text/plain": [
       "'Startup'"
      ]
     },
     "execution_count": 120,
     "metadata": {},
     "output_type": "execute_result"
    }
   ],
   "source": [
    "soup2.select_one('span:contains(\"Rank\")').find_next('span').text"
   ]
  },
  {
   "cell_type": "code",
   "execution_count": 51,
   "id": "b336c6bb-e107-4cb3-9580-f9b5798ff57d",
   "metadata": {},
   "outputs": [
    {
     "data": {
      "text/plain": [
       "'Yokoy Group AG'"
      ]
     },
     "execution_count": 51,
     "metadata": {},
     "output_type": "execute_result"
    }
   ],
   "source": [
    "#Name\n",
    "soup2.findAll(\"span\", {\"class\":\"col-star\",\"class\":\"text\"})[0].text"
   ]
  },
  {
   "cell_type": "code",
   "execution_count": 80,
   "id": "2fdc6354-773f-4257-8105-691220da5df2",
   "metadata": {},
   "outputs": [
    {
     "data": {
      "text/plain": [
       "'HeadquarterZurich'"
      ]
     },
     "execution_count": 80,
     "metadata": {},
     "output_type": "execute_result"
    }
   ],
   "source": [
    "#Headquarter\n",
    "soup2.findAll(\"span\", {\"class\":\"col-head\"})[1].text  #here we have \"Headquarter\" + \"Zurich\""
   ]
  },
  {
   "cell_type": "code",
   "execution_count": 77,
   "id": "d67903e7-aacc-4310-9197-53a38b27e60d",
   "metadata": {},
   "outputs": [
    {
     "data": {
      "text/plain": [
       "'CategoryFintech'"
      ]
     },
     "execution_count": 77,
     "metadata": {},
     "output_type": "execute_result"
    }
   ],
   "source": [
    "#Category\n",
    "soup2.findAll(\"span\", {\"class\":\"col-cate\"})[1].text  #here we have \"Category\" + \"Fintech\""
   ]
  },
  {
   "cell_type": "code",
   "execution_count": 168,
   "id": "c830c581-7cf7-4f72-aefb-61c030550376",
   "metadata": {},
   "outputs": [
    {
     "data": {
      "text/plain": [
       "' \\tYour expenses and company credit cards on autopilot'"
      ]
     },
     "execution_count": 168,
     "metadata": {},
     "output_type": "execute_result"
    }
   ],
   "source": [
    "#Description\n",
    "lst=soup2.findAll(\"span\", {\"class\":\"col-desc\"})[1].text.strip().split(\"  \")[-1]  #here we have \n",
    "lst"
   ]
  },
  {
   "cell_type": "code",
   "execution_count": 169,
   "id": "769856e4-089c-4731-a513-234d5255bcd7",
   "metadata": {},
   "outputs": [
    {
     "data": {
      "text/plain": [
       "' Your expenses and company credit cards on autopilot'"
      ]
     },
     "execution_count": 169,
     "metadata": {},
     "output_type": "execute_result"
    }
   ],
   "source": [
    "re.sub(r'[\\r\\n\\t]', '', lst, flags=re.MULTILINE)"
   ]
  },
  {
   "cell_type": "code",
   "execution_count": 158,
   "id": "6c4e43cb-be29-4938-874e-9e1684e021b7",
   "metadata": {},
   "outputs": [
    {
     "name": "stdout",
     "output_type": "stream",
     "text": [
      "['D', 'e', 's', 'c', 'r', 'i', 'p', 't', 'i', 'o', 'n', 'Y', 'o', 'u', 'r', 'e', 'x', 'p', 'e', 'n', 's', 'e', 's', 'a', 'n', 'd', 'c', 'o', 'm', 'p', 'a', 'n', 'y', 'c', 'r', 'e', 'd', 'i', 't', 'c', 'a', 'r', 'd', 's', 'o', 'n', 'a', 'u', 't', 'o', 'p', 'i', 'l', 'o', 't']\n"
     ]
    }
   ],
   "source": [
    "rx = re.compile(r'^\\s+$')\n",
    "\n",
    "lst = [item.strip() for item in lst if not rx.match(item)]\n",
    "print(lst)"
   ]
  },
  {
   "cell_type": "code",
   "execution_count": 89,
   "id": "a5cd6ab3-3ed0-49aa-8b59-c4b91ce78149",
   "metadata": {},
   "outputs": [
    {
     "data": {
      "text/plain": [
       "[]"
      ]
     },
     "execution_count": 89,
     "metadata": {},
     "output_type": "execute_result"
    }
   ],
   "source": [
    "#Description\n",
    "soup2.findAll(\"!-- 200 0 --\")  #here we have "
   ]
  }
 ],
 "metadata": {
  "kernelspec": {
   "display_name": "Python 3 (ipykernel)",
   "language": "python",
   "name": "python3"
  },
  "language_info": {
   "codemirror_mode": {
    "name": "ipython",
    "version": 3
   },
   "file_extension": ".py",
   "mimetype": "text/x-python",
   "name": "python",
   "nbconvert_exporter": "python",
   "pygments_lexer": "ipython3",
   "version": "3.10.4"
  }
 },
 "nbformat": 4,
 "nbformat_minor": 5
}
